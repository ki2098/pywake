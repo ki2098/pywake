{
 "cells": [
  {
   "cell_type": "code",
   "execution_count": 1,
   "id": "56de8e49-d505-4d44-8324-10f8295bec34",
   "metadata": {},
   "outputs": [],
   "source": [
    "import py_wake"
   ]
  },
  {
   "cell_type": "code",
   "execution_count": 2,
   "id": "614bdab4-f8be-4537-8a57-1ff05bd5a099",
   "metadata": {},
   "outputs": [],
   "source": [
    "from py_wake.examples.data.hornsrev1 import Hornsrev1Site, V80, wt_x, wt_y, wt16_x, wt16_y"
   ]
  },
  {
   "cell_type": "code",
   "execution_count": 3,
   "id": "22275bf2-9381-45f2-bba1-4b567f818e4a",
   "metadata": {},
   "outputs": [],
   "source": [
    "from py_wake.literature.noj import Jensen_1983 as NOJ"
   ]
  },
  {
   "cell_type": "code",
   "execution_count": null,
   "id": "bec94568-061c-4cb6-8ed7-31d8737a11ba",
   "metadata": {},
   "outputs": [],
   "source": []
  }
 ],
 "metadata": {
  "kernelspec": {
   "display_name": "Python 3 (ipykernel)",
   "language": "python",
   "name": "python3"
  },
  "language_info": {
   "codemirror_mode": {
    "name": "ipython",
    "version": 3
   },
   "file_extension": ".py",
   "mimetype": "text/x-python",
   "name": "python",
   "nbconvert_exporter": "python",
   "pygments_lexer": "ipython3",
   "version": "3.10.12"
  }
 },
 "nbformat": 4,
 "nbformat_minor": 5
}
