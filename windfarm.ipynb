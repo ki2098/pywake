{
 "cells": [
  {
   "cell_type": "code",
   "execution_count": 1,
   "metadata": {},
   "outputs": [],
   "source": [
    "import py_wake"
   ]
  },
  {
   "cell_type": "code",
   "execution_count": 2,
   "metadata": {},
   "outputs": [
    {
     "name": "stdout",
     "output_type": "stream",
     "text": [
      "Help on function __init__ in module py_wake.wind_farm_models.engineering_models:\n",
      "\n",
      "__init__(self, site, windTurbines, wake_deficitModel, superpositionModel=<py_wake.superposition_models.LinearSum object at 0x77ec40974be0>, deflectionModel=None, turbulenceModel=None, rotorAvgModel=None, inputModifierModels=[])\n",
      "    Initialize flow model\n",
      "    \n",
      "    Parameters\n",
      "    ----------\n",
      "    site : Site\n",
      "        Site object\n",
      "    windTurbines : WindTurbines\n",
      "        WindTurbines object representing the wake generating wind turbines\n",
      "    wake_deficitModel : DeficitModel\n",
      "        Model describing the wake(downstream) deficit\n",
      "    rotorAvgModel : RotorAvgModel, optional\n",
      "        Model defining one or more points at the down stream rotors to\n",
      "        calculate the rotor average wind speeds from.\n",
      "    \n",
      "        if None, default, the wind speed at the rotor center is used\n",
      "    superpositionModel : SuperpositionModel\n",
      "        Model defining how deficits sum up\n",
      "    deflectionModel : DeflectionModel\n",
      "        Model describing the deflection of the wake due to yaw misalignment, sheared inflow, etc.\n",
      "    turbulenceModel : TurbulenceModel\n",
      "        Model describing the amount of added turbulence in the wake\n",
      "\n"
     ]
    }
   ],
   "source": [
    "from py_wake.wind_farm_models import PropagateDownwind\n",
    "help(PropagateDownwind.__init__)"
   ]
  },
  {
   "cell_type": "code",
   "execution_count": null,
   "metadata": {},
   "outputs": [],
   "source": []
  }
 ],
 "metadata": {
  "kernelspec": {
   "display_name": "Python 3",
   "language": "python",
   "name": "python3"
  },
  "language_info": {
   "codemirror_mode": {
    "name": "ipython",
    "version": 3
   },
   "file_extension": ".py",
   "mimetype": "text/x-python",
   "name": "python",
   "nbconvert_exporter": "python",
   "pygments_lexer": "ipython3",
   "version": "3.10.12"
  }
 },
 "nbformat": 4,
 "nbformat_minor": 2
}
